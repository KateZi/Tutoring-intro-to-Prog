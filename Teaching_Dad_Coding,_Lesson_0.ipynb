{
  "nbformat": 4,
  "nbformat_minor": 0,
  "metadata": {
    "colab": {
      "name": "Teaching Dad Coding, Lesson 0.ipynb",
      "provenance": [],
      "authorship_tag": "ABX9TyP2c9Ik7K9OfivEacdoMzNq",
      "include_colab_link": true
    },
    "kernelspec": {
      "name": "python3",
      "display_name": "Python 3"
    }
  },
  "cells": [
    {
      "cell_type": "markdown",
      "metadata": {
        "id": "view-in-github",
        "colab_type": "text"
      },
      "source": [
        "<a href=\"https://colab.research.google.com/github/KateZi/Tutoring-intro-to-Prog/blob/master/Teaching_Dad_Coding%2C_Lesson_0.ipynb\" target=\"_parent\"><img src=\"https://colab.research.google.com/assets/colab-badge.svg\" alt=\"Open In Colab\"/></a>"
      ]
    },
    {
      "cell_type": "markdown",
      "metadata": {
        "id": "-YBMdcVYWBIe",
        "colab_type": "text"
      },
      "source": [
        "# Lesson 0."
      ]
    },
    {
      "cell_type": "markdown",
      "metadata": {
        "id": "eb6jIGM6ToKY",
        "colab_type": "text"
      },
      "source": [
        "Hey dad! \n",
        "\n",
        "This is Google Collab - one of the simplest ways for me to introduce you to coding without asking you to install anything on your machine.\n",
        "\n",
        "You don't really need to know any theory and background on Python, cause you ain't got time for that. So let's teach you some very basic coding."
      ]
    },
    {
      "cell_type": "markdown",
      "metadata": {
        "id": "i8HnebySUVfG",
        "colab_type": "text"
      },
      "source": [
        "A comment can be written anywhere throughout your code for your...commentary.\n",
        "\n",
        "The machine won't read it as part of the code, so you can write #whaterver you want."
      ]
    },
    {
      "cell_type": "code",
      "metadata": {
        "id": "mYzlyqA7TizS",
        "colab_type": "code",
        "colab": {}
      },
      "source": [
        "# this is a comment"
      ],
      "execution_count": null,
      "outputs": []
    },
    {
      "cell_type": "markdown",
      "metadata": {
        "id": "4uJXJcQEUmKP",
        "colab_type": "text"
      },
      "source": [
        "This is a piece of Python code. If you click on the \"Play\" button, you can see what happens when you feed the machine a simple instruction."
      ]
    },
    {
      "cell_type": "code",
      "metadata": {
        "id": "UbPp7rn4UjyT",
        "colab_type": "code",
        "colab": {
          "base_uri": "https://localhost:8080/",
          "height": 34
        },
        "outputId": "b4f4e800-9316-4e9c-efd8-c505ba6139c8"
      },
      "source": [
        "print(\"Hello, DAD!\")"
      ],
      "execution_count": null,
      "outputs": [
        {
          "output_type": "stream",
          "text": [
            "Hello, DAD!\n"
          ],
          "name": "stdout"
        }
      ]
    },
    {
      "cell_type": "markdown",
      "metadata": {
        "id": "sX03U56wU2k3",
        "colab_type": "text"
      },
      "source": [
        "Pretty neat, now go off and start coding!!!\n",
        "\n",
        "I'd like to send you off like that cause I got actual work to do:) Just kidding, and I'm not going to.\n",
        "\n",
        "Throughout this course I'll teach you not only basics of Python, and kind of mostly not it, but how to Google. Yes, that's right. Google is your biggest friend."
      ]
    },
    {
      "cell_type": "markdown",
      "metadata": {
        "id": "H3RIftPRVOtt",
        "colab_type": "text"
      },
      "source": [
        "**Get introduced to the holy website of all beginners and not only:**\n",
        "\n",
        "www.stackoverflow.com"
      ]
    },
    {
      "cell_type": "markdown",
      "metadata": {
        "id": "rCh7Ox8ZVb2v",
        "colab_type": "text"
      },
      "source": [
        "Here you can get answers to most questions that you'll get while learning how to code for the first time, second and third. When creating your first script, game or doing your first job.\n",
        "\n",
        "The pigeon hole is strong here: people have done what you're doing, have asked what you're asking and have received from great to moderate quality answers to those questions."
      ]
    },
    {
      "cell_type": "markdown",
      "metadata": {
        "id": "bTatslHnV8Nu",
        "colab_type": "text"
      },
      "source": [
        "## Some basic coding concepts for you."
      ]
    },
    {
      "cell_type": "markdown",
      "metadata": {
        "id": "E453qTW86wnh",
        "colab_type": "text"
      },
      "source": [
        "###Functions"
      ]
    },
    {
      "cell_type": "markdown",
      "metadata": {
        "id": "ALwSwUIOsdmt",
        "colab_type": "text"
      },
      "source": [
        "So what happened above?\n",
        "\n",
        "\n",
        "```\n",
        "print(\"Hello, DAD!\")\n",
        "```\n",
        "\n",
        "> *Function is a block od code which only runs when CALLED upon.* \n",
        ">\n",
        ">*CALLED means it was written as part of the code, and once the running of the current program reaches this line, the function gets CALLED.*\n",
        ">\n",
        ">*You can pass arguments (inputs) to functions, and the function can return a result (output). But that depends on a function.*\n",
        "\n",
        "\n",
        "\n",
        "print() is a function. Quickly go to Google and search for \"Python print()\".\n",
        "\n",
        "Results should be as follows most likely:\n",
        "1. https://www.w3schools.com/python/ref_func_print.asp\n",
        "2. https://docs.python.org/3/tutorial/inputoutput.html\n",
        "\n",
        "\n",
        "Go ahead and click both. Funnily enough, the first link seems to be more relevant. It happens quite sometimes, that blogs/StackOverflow/etc. explain things in a more coherent and simple way than the official websites.\n",
        "\n",
        "However, let's not fully discredit the official doc. If you read through the first paragraph you'll at some point see the desires \"print()\". Click on it! It brings you down the page, where everything looks like bambo-jambo. We're not going to delve into it right now, if you want to - you can skim through the API. With time and experience, you'll learn how to gatther info from sources like this (or not, simetimes they are not worth the effort, but better try cause you might lose A LOT of time if you just decided to be smarter than the official documentation)."
      ]
    },
    {
      "cell_type": "markdown",
      "metadata": {
        "id": "qncYVsX6j3yM",
        "colab_type": "text"
      },
      "source": [
        "What I want you to do now, is look at the first link more carefully. The page is very short, so it should take you a few minutes. If you scroll down you can see small interactive snippets of code. Try to run them.\n",
        "\n",
        "> **W3Schools** is another great source for learning. You'll find a page like this for almost any function you're curious about.\n",
        "\n",
        "\n",
        "\n",
        "*That's not even all! W3Schools is a website we'll be able to refer to also when learning JavaScript in future.*"
      ]
    },
    {
      "cell_type": "markdown",
      "metadata": {
        "id": "eOa3V-I8WopF",
        "colab_type": "text"
      },
      "source": [
        "\n",
        "\n",
        "---\n",
        "\n",
        "Now, what have we seen in one of the function's uses?\n",
        "\n",
        "print() can accept (take) more than one argument (way more really).\n",
        "It can take multiple strings to print."
      ]
    },
    {
      "cell_type": "code",
      "metadata": {
        "id": "63qvaJgimoLa",
        "colab_type": "code",
        "colab": {
          "base_uri": "https://localhost:8080/",
          "height": 34
        },
        "outputId": "823751ae-7157-4ee5-8d5a-8276564538c7"
      },
      "source": [
        "print(\"Separate\", \"text\")"
      ],
      "execution_count": 1,
      "outputs": [
        {
          "output_type": "stream",
          "text": [
            "Separate text\n"
          ],
          "name": "stdout"
        }
      ]
    },
    {
      "cell_type": "markdown",
      "metadata": {
        "id": "HfomzQ2bm5ZI",
        "colab_type": "text"
      },
      "source": [
        "It can take a separator (sep) to divide the strings with."
      ]
    },
    {
      "cell_type": "code",
      "metadata": {
        "id": "J-LOzNh1myex",
        "colab_type": "code",
        "colab": {
          "base_uri": "https://localhost:8080/",
          "height": 51
        },
        "outputId": "e567c5e3-02c6-46bc-d2e2-d5ac5ec55c18"
      },
      "source": [
        "print(\"Separate\", \"text\", sep=', ')\n",
        "print(\"Separate\", \"text\", sep=':)')"
      ],
      "execution_count": 15,
      "outputs": [
        {
          "output_type": "stream",
          "text": [
            "Separate, text\n",
            "Separate:)text\n"
          ],
          "name": "stdout"
        }
      ]
    },
    {
      "cell_type": "markdown",
      "metadata": {
        "id": "9cv0IcnpnC6E",
        "colab_type": "text"
      },
      "source": [
        "You can play around with the print function more.\n",
        "\n",
        "What's important here isn't the print(), it's reading about a function and trying it out.\n",
        "\n",
        "For example, follow the below code snippet and try and guess based on me playing with it how things work. I'll be playing around with the sum() function."
      ]
    },
    {
      "cell_type": "code",
      "metadata": {
        "id": "2AbZd_E0nZ_7",
        "colab_type": "code",
        "colab": {
          "base_uri": "https://localhost:8080/",
          "height": 119
        },
        "outputId": "43903779-34d8-4b70-9838-bb753c89a1b5"
      },
      "source": [
        "print(sum([0,1]))\n",
        "print(sum([0,True]))\n",
        "print(sum([4,8,1998]))\n",
        "print(sum([4,8,1998], 0))\n",
        "print(sum([4,8,1998], 1))\n",
        "print(sum([4,8,1998], 2020))"
      ],
      "execution_count": 14,
      "outputs": [
        {
          "output_type": "stream",
          "text": [
            "1\n",
            "1\n",
            "2010\n",
            "2010\n",
            "2011\n",
            "4030\n"
          ],
          "name": "stdout"
        }
      ]
    },
    {
      "cell_type": "markdown",
      "metadata": {
        "id": "Ey1xWLTgoXAX",
        "colab_type": "text"
      },
      "source": [
        "\n",
        "\n",
        "*   What do you think is happening here?\n",
        "\n",
        "*   What is this second number after the comma?\n",
        "\n",
        "*   Once you answer the second question: how come we can pass or not pass this argument? What happens if we don't?\n"
      ]
    },
    {
      "cell_type": "code",
      "metadata": {
        "id": "vQUlj2se6MSN",
        "colab_type": "code",
        "colab": {
          "base_uri": "https://localhost:8080/",
          "height": 34
        },
        "outputId": "bc26fb28-7dc8-4ee0-ca25-4234f246ac38"
      },
      "source": [
        "# BONUS\n",
        "print(sum([4,8,1998],2020),sum([15,4,1971],2020),sep=' <= ') # surprisingly, it's not a correct inequality:)"
      ],
      "execution_count": 18,
      "outputs": [
        {
          "output_type": "stream",
          "text": [
            "4030 <= 4010\n"
          ],
          "name": "stdout"
        }
      ]
    },
    {
      "cell_type": "markdown",
      "metadata": {
        "id": "3IXRi0UP5qNP",
        "colab_type": "text"
      },
      "source": [
        "\n",
        "\n",
        "---\n",
        "\n"
      ]
    },
    {
      "cell_type": "markdown",
      "metadata": {
        "id": "J6-TWE-Umrsd",
        "colab_type": "text"
      },
      "source": [
        "### Variables\n",
        "\n",
        "You can store values, such as numbers, strings (==text), booleans (to be talked about in a min), and a shit load of other things in **variables**.\n",
        "\n",
        "Why would you want that? To use, reuse and keep your sanity.\n",
        "\n",
        "\\#SanityCheck - not about that really, but do google what it means:)"
      ]
    },
    {
      "cell_type": "code",
      "metadata": {
        "id": "k1JXL1dqWdc5",
        "colab_type": "code",
        "colab": {}
      },
      "source": [
        "# this below is a variable\n",
        "hello_text = \"Hello, DAD!\""
      ],
      "execution_count": 25,
      "outputs": []
    },
    {
      "cell_type": "markdown",
      "metadata": {
        "id": "pPptPOgc--r7",
        "colab_type": "text"
      },
      "source": [
        "**Important**\n",
        "\n",
        "'=' **DOES NOT** stand for \"equals\". It **assigns** a value to a variable.\n",
        "\n",
        "We'll talk about \"equals-equals\" later on."
      ]
    },
    {
      "cell_type": "markdown",
      "metadata": {
        "id": "8-vfhlQ8XPDW",
        "colab_type": "text"
      },
      "source": [
        "**Do NOT forget to press the \"Play\" button above (and on all the code cells). The notebook needs to process this code in order to know, that  \"oh yes, there is a variable _ and it stores <>\"**"
      ]
    },
    {
      "cell_type": "code",
      "metadata": {
        "id": "IqHKcfYWXHQL",
        "colab_type": "code",
        "colab": {
          "base_uri": "https://localhost:8080/",
          "height": 34
        },
        "outputId": "e4348605-442c-4a52-fa47-8f7bb50d8abc"
      },
      "source": [
        "# now you can print it, as we did before\n",
        "print(hello_text)"
      ],
      "execution_count": 23,
      "outputs": [
        {
          "output_type": "stream",
          "text": [
            "Hello, DAD!:)>:)\n"
          ],
          "name": "stdout"
        }
      ]
    },
    {
      "cell_type": "code",
      "metadata": {
        "id": "A1TV6BZZXgJN",
        "colab_type": "code",
        "colab": {}
      },
      "source": [
        "# you can change it!\n",
        "hello_text = \"Hey, papasha\""
      ],
      "execution_count": null,
      "outputs": []
    },
    {
      "cell_type": "code",
      "metadata": {
        "id": "jYrsqwEIXrR0",
        "colab_type": "code",
        "colab": {
          "base_uri": "https://localhost:8080/",
          "height": 34
        },
        "outputId": "8b289309-93ab-4396-eb54-3d35f3b0aaef"
      },
      "source": [
        "# but you don't have to change it in the below code\n",
        "print(hello_text)"
      ],
      "execution_count": null,
      "outputs": [
        {
          "output_type": "stream",
          "text": [
            "Hey, papasha\n"
          ],
          "name": "stdout"
        }
      ]
    },
    {
      "cell_type": "code",
      "metadata": {
        "id": "xV05pUkD7gsB",
        "colab_type": "code",
        "colab": {
          "base_uri": "https://localhost:8080/",
          "height": 51
        },
        "outputId": "396e854b-ca4a-4e89-a3e8-fd673bf0fafc"
      },
      "source": [
        "# or\n",
        "hello_text = hello_text + \">\"\n",
        "print(hello_text)\n",
        "\n",
        "# this can also be written in a short form\n",
        "# notice where the + sign is\n",
        "hello_text += \":)\"\n",
        "print(hello_text)"
      ],
      "execution_count": 26,
      "outputs": [
        {
          "output_type": "stream",
          "text": [
            "Hello, DAD!>\n",
            "Hello, DAD!>:)\n"
          ],
          "name": "stdout"
        }
      ]
    },
    {
      "cell_type": "code",
      "metadata": {
        "id": "-76B2iz9bke7",
        "colab_type": "code",
        "colab": {
          "base_uri": "https://localhost:8080/",
          "height": 34
        },
        "outputId": "84a9d310-bace-4d48-8c2e-75780abceb60"
      },
      "source": [
        "# so basically, you might start with\n",
        "hello_text = \"Hello, DAD!\"\n",
        "\n",
        "# but later you might do some code and calculations that will change the value\n",
        "hello_text += \":)\"\n",
        "\n",
        "# the benefit is, that you can di whatever changes you want\n",
        "# the print function will print the END result\n",
        "print(hello_text)"
      ],
      "execution_count": 27,
      "outputs": [
        {
          "output_type": "stream",
          "text": [
            "Hello, DAD!:)\n"
          ],
          "name": "stdout"
        }
      ]
    },
    {
      "cell_type": "markdown",
      "metadata": {
        "id": "-4mt7ZTX7UG3",
        "colab_type": "text"
      },
      "source": [
        "\n",
        "\n",
        "*   What's the benefit of storing a value in a variable that we can observe so far?\n"
      ]
    },
    {
      "cell_type": "markdown",
      "metadata": {
        "id": "Bk9MrWKLb-mk",
        "colab_type": "text"
      },
      "source": [
        "---\n",
        "\n",
        "What about numbers and math?\n",
        "\n",
        "Below is an ugly looking piece of scripting"
      ]
    },
    {
      "cell_type": "code",
      "metadata": {
        "id": "gN0JV2twbz1n",
        "colab_type": "code",
        "colab": {
          "base_uri": "https://localhost:8080/",
          "height": 34
        },
        "outputId": "af5f25c5-a1ac-400b-f073-b34ded393168"
      },
      "source": [
        "2+2"
      ],
      "execution_count": null,
      "outputs": [
        {
          "output_type": "execute_result",
          "data": {
            "text/plain": [
              "4"
            ]
          },
          "metadata": {
            "tags": []
          },
          "execution_count": 12
        }
      ]
    },
    {
      "cell_type": "markdown",
      "metadata": {
        "id": "2JgYEzSScTcM",
        "colab_type": "text"
      },
      "source": [
        "Here is a less ugly bit of code"
      ]
    },
    {
      "cell_type": "code",
      "metadata": {
        "id": "njD5GtZBcFIp",
        "colab_type": "code",
        "colab": {
          "base_uri": "https://localhost:8080/",
          "height": 34
        },
        "outputId": "429da22b-7a54-41a9-898f-ac8b6d2dd891"
      },
      "source": [
        "a = 2\n",
        "print(a+a)"
      ],
      "execution_count": 30,
      "outputs": [
        {
          "output_type": "stream",
          "text": [
            "4\n"
          ],
          "name": "stdout"
        }
      ]
    },
    {
      "cell_type": "markdown",
      "metadata": {
        "id": "LUsK0mGmc-Sb",
        "colab_type": "text"
      },
      "source": [
        "Or you can store the result in a variable - mindblown"
      ]
    },
    {
      "cell_type": "code",
      "metadata": {
        "id": "jZFFwDTDc4zv",
        "colab_type": "code",
        "colab": {}
      },
      "source": [
        "sum = a + a"
      ],
      "execution_count": 31,
      "outputs": []
    },
    {
      "cell_type": "code",
      "metadata": {
        "id": "M_yJF3nvcZL-",
        "colab_type": "code",
        "colab": {
          "base_uri": "https://localhost:8080/",
          "height": 34
        },
        "outputId": "cd7b2110-f2ce-4aa6-bc81-7e9f9a6bc41b"
      },
      "source": [
        "print(\"Summation = {:}\".format(sum))"
      ],
      "execution_count": 34,
      "outputs": [
        {
          "output_type": "stream",
          "text": [
            "Summation = 4\n"
          ],
          "name": "stdout"
        }
      ]
    },
    {
      "cell_type": "markdown",
      "metadata": {
        "id": "rY7UsC9UcsfG",
        "colab_type": "text"
      },
      "source": [
        "WHOAH, what happened here???\n",
        "\n",
        "I used basic string formatting."
      ]
    },
    {
      "cell_type": "code",
      "metadata": {
        "id": "lKWVteCVcmRx",
        "colab_type": "code",
        "colab": {
          "base_uri": "https://localhost:8080/",
          "height": 34
        },
        "outputId": "1a35349c-737d-4497-ff82-155bd1d4da55"
      },
      "source": [
        "# string\n",
        "string = \"String{}\"\n",
        "\n",
        "string_ = string.format(\", format\")\n",
        "\n",
        "print(string_)"
      ],
      "execution_count": null,
      "outputs": [
        {
          "output_type": "stream",
          "text": [
            "String, format\n"
          ],
          "name": "stdout"
        }
      ]
    },
    {
      "cell_type": "markdown",
      "metadata": {
        "id": "speqrclvdnqU",
        "colab_type": "text"
      },
      "source": [
        ".format() is function you can call on a String (text).\n",
        "It **returns** a NEW String with which you can work with afterwords.\n",
        "\n",
        "Go and google this function.\n",
        "It might be even better if you find *usages* of it, so that you grasp what's going on based on examples (like we did with the sum function)."
      ]
    },
    {
      "cell_type": "markdown",
      "metadata": {
        "id": "fJ47rUdO9J-2",
        "colab_type": "text"
      },
      "source": [
        "\n",
        "---\n",
        "\n",
        "**BOOLEANS**\n",
        "\n",
        "Booleans are a big deal. It's not as complicated as some people say, but it is something to get a hang of at the very first.\n",
        "\n",
        "boolean is a data type.\n",
        "\n",
        "\n",
        "*   What other data types do we already know?\n",
        "\n",
        "boolean represents if something holds or not\n",
        "\n",
        "```\n",
        "True\n",
        "# or\n",
        "False\n",
        "```\n",
        "\n",
        "Booleans are everywhere in programming. Because you always want to check if something evaluates to this or that to detemine further actions.\n"
      ]
    },
    {
      "cell_type": "code",
      "metadata": {
        "id": "Fa-CBKRFdPF2",
        "colab_type": "code",
        "colab": {}
      },
      "source": [
        "# this is a list\n",
        "# a list is difficult to explain as is\n",
        "# so watch\n",
        "\n",
        "family = [\"Dad\", \"Mom\", \"Gleb\", \"Kate\"]"
      ],
      "execution_count": 35,
      "outputs": []
    },
    {
      "cell_type": "code",
      "metadata": {
        "id": "umeybRZe-coE",
        "colab_type": "code",
        "colab": {
          "base_uri": "https://localhost:8080/",
          "height": 34
        },
        "outputId": "ce19bd3e-9c5b-4f65-d51e-63473c9ad8a6"
      },
      "source": [
        "daughter = \"Kate\"\n",
        "\n",
        "# that's the boolean\n",
        "# the expression on the right of the = sign is going to be either True or False\n",
        "# the = sign assigns the value to our variable\n",
        "isFamily = daughter in family\n",
        "print(isFamily)"
      ],
      "execution_count": 36,
      "outputs": [
        {
          "output_type": "stream",
          "text": [
            "True\n"
          ],
          "name": "stdout"
        }
      ]
    },
    {
      "cell_type": "markdown",
      "metadata": {
        "id": "lAu6ChwX-nEX",
        "colab_type": "text"
      },
      "source": [
        "What happened here? Can you intuitively tell me?"
      ]
    },
    {
      "cell_type": "code",
      "metadata": {
        "id": "zOLLobrC-lDz",
        "colab_type": "code",
        "colab": {
          "base_uri": "https://localhost:8080/",
          "height": 51
        },
        "outputId": "e2a3dc5e-b80d-4f60-af67-d08b30bc696a"
      },
      "source": [
        "a = 2\n",
        "sum = a+a\n",
        "# '==' is exactly the \"equals-equals\" I promised we'd talk about\n",
        "# it checks if 2 objects are equal\n",
        "isFour = (sum == 4)\n",
        "# '>'checks exactly what you would expect\n",
        "isBiggerThanFive = (sum > 5)\n",
        "\n",
        "print(isFour)\n",
        "print(isBiggerThanFive)"
      ],
      "execution_count": 38,
      "outputs": [
        {
          "output_type": "stream",
          "text": [
            "True\n",
            "False\n"
          ],
          "name": "stdout"
        }
      ]
    },
    {
      "cell_type": "code",
      "metadata": {
        "id": "Al1-y3elBCoo",
        "colab_type": "code",
        "colab": {
          "base_uri": "https://localhost:8080/",
          "height": 51
        },
        "outputId": "36503eb2-02fb-4052-b653-1442d05141fc"
      },
      "source": [
        "isSunny = True\n",
        "# not negates a value\n",
        "isRainy = not isSunny\n",
        "\n",
        "print(isSunny)\n",
        "print(isRainy)"
      ],
      "execution_count": 40,
      "outputs": [
        {
          "output_type": "stream",
          "text": [
            "True\n",
            "False\n"
          ],
          "name": "stdout"
        }
      ]
    },
    {
      "cell_type": "code",
      "metadata": {
        "id": "lFBs2ypWBdXW",
        "colab_type": "code",
        "colab": {
          "base_uri": "https://localhost:8080/",
          "height": 51
        },
        "outputId": "55827ed9-14ec-49ac-82c1-a40da4a2471d"
      },
      "source": [
        "# 'and' means that both conditions we're asking about HAVE to be met\n",
        "isSummer = isSunny and not isRainy\n",
        "\n",
        "# 'or' means that 1+ of conditions have to be met\n",
        "isSpring = isSunny or isRainy\n",
        "\n",
        "print(isSummer)\n",
        "print(isSpring)"
      ],
      "execution_count": 41,
      "outputs": [
        {
          "output_type": "stream",
          "text": [
            "True\n",
            "True\n"
          ],
          "name": "stdout"
        }
      ]
    },
    {
      "cell_type": "markdown",
      "metadata": {
        "id": "wL1qti-uCV97",
        "colab_type": "text"
      },
      "source": [
        "\n",
        "```\n",
        "not # negates a value: True -> False, False -> True\n",
        "and # requires conditions on both sides to be satisfied\n",
        "or # requires at least condition to be satisfied\n",
        "```\n",
        "\n",
        "\n",
        "\n",
        "\n"
      ]
    },
    {
      "cell_type": "markdown",
      "metadata": {
        "id": "X4GW58izC7Lj",
        "colab_type": "text"
      },
      "source": [
        "\n",
        "\n",
        "---\n",
        "\n",
        "## If-statement"
      ]
    },
    {
      "cell_type": "code",
      "metadata": {
        "id": "kLphXkQ6DJNZ",
        "colab_type": "code",
        "colab": {
          "base_uri": "https://localhost:8080/",
          "height": 34
        },
        "outputId": "af3cc09a-6db9-47b9-d351-6d7334e2ca85"
      },
      "source": [
        "if isFamily:\n",
        "  print(\"I am your father\")\n",
        "else:\n",
        "  print(\"Nooo!\")"
      ],
      "execution_count": 42,
      "outputs": [
        {
          "output_type": "stream",
          "text": [
            "I am your father\n"
          ],
          "name": "stdout"
        }
      ]
    },
    {
      "cell_type": "markdown",
      "metadata": {
        "id": "4fU8mJXUDGln",
        "colab_type": "text"
      },
      "source": [
        "If-statement is a construct which allows us to check if something has occured and proceed from there.\n",
        "\n",
        "In the example above:\n",
        "\n",
        "If I am your daughter - you print  \"I am your father\"\n",
        "\n",
        "If not - \"Nooo!\""
      ]
    },
    {
      "cell_type": "markdown",
      "metadata": {
        "id": "WM-HK6v5D_BI",
        "colab_type": "text"
      },
      "source": [
        "\n",
        "\n",
        "> If _condition_ :\n",
        ">\n",
        "> do this\n",
        ">\n",
        "> else:\n",
        ">\n",
        "> do that\n",
        "\n"
      ]
    },
    {
      "cell_type": "markdown",
      "metadata": {
        "id": "M8i3M_b3ERV0",
        "colab_type": "text"
      },
      "source": [
        "You can further play with it, and you're going to.\n",
        "\n",
        "But just for the taste:"
      ]
    },
    {
      "cell_type": "code",
      "metadata": {
        "id": "db3vz0A_EZQs",
        "colab_type": "code",
        "colab": {
          "base_uri": "https://localhost:8080/",
          "height": 34
        },
        "outputId": "62b87470-1bba-41bd-8ed8-3c812a448804"
      },
      "source": [
        "if isFamily:\n",
        "  if daughter == \"Katya\":\n",
        "    print(\"I am your father\")\n",
        "  else:\n",
        "    print(\"I am almost your father\")\n",
        "else:\n",
        "  \"Nooo!\""
      ],
      "execution_count": 43,
      "outputs": [
        {
          "output_type": "stream",
          "text": [
            "I am almost your father\n"
          ],
          "name": "stdout"
        }
      ]
    },
    {
      "cell_type": "markdown",
      "metadata": {
        "id": "2TwmZymbFGLt",
        "colab_type": "text"
      },
      "source": [
        "Lastly, I'll show you how to better structure our code and REUSE it.\n",
        "\n",
        "Let's define our very own function."
      ]
    },
    {
      "cell_type": "code",
      "metadata": {
        "id": "CBlJKf_-FO9O",
        "colab_type": "code",
        "colab": {}
      },
      "source": [
        "def check_family(family, toCheck):\n",
        "  if toCheck in family:\n",
        "    return \"You are part of the family\"\n",
        "  else:\n",
        "    return \"You are definitely not in the family\""
      ],
      "execution_count": 53,
      "outputs": []
    },
    {
      "cell_type": "code",
      "metadata": {
        "id": "eLICf6YQFiSQ",
        "colab_type": "code",
        "colab": {
          "base_uri": "https://localhost:8080/",
          "height": 34
        },
        "outputId": "b24f97e5-f893-45b4-ab8e-296eedad8b0b"
      },
      "source": [
        "print(check_family(family, \"Natasha\"))"
      ],
      "execution_count": 55,
      "outputs": [
        {
          "output_type": "stream",
          "text": [
            "You are definitely not in the family\n"
          ],
          "name": "stdout"
        }
      ]
    },
    {
      "cell_type": "markdown",
      "metadata": {
        "id": "sRjuZWKqF10T",
        "colab_type": "text"
      },
      "source": [
        "That's how you define a function.\n",
        "\n",
        "\n",
        "> def - special word reserved for *defining* a function\n",
        ">\n",
        "> check_family - the name of our function. It can be anything, however, there are some special names reserved by Python which shouldn't be used. Usully they get **highlighted**.\n",
        ">\n",
        "> (family, toCheck) - arguments a user has to pass to our function to get the result. In our case family is a list of family members, toCheck is a person to check if s/he is in the family.\n",
        ">\n",
        ">IMPORTANT: return - instead of printing a result, we RETURN it to the caller. To the place in the code where the function was called from.\n",
        ">\n",
        "> *You might be asking a reasonable question: how do I know what a function expects me to pass? That's a downside of Python - you don't define the types and don't explicitly state them. However, there are ways to overcome this in a way.*\n",
        "\n"
      ]
    },
    {
      "cell_type": "markdown",
      "metadata": {
        "id": "eBbAlgfCEqOC",
        "colab_type": "text"
      },
      "source": [
        "\n",
        "\n",
        "---\n",
        "\n",
        "\n",
        "\n",
        "---\n",
        "\n"
      ]
    },
    {
      "cell_type": "markdown",
      "metadata": {
        "id": "yt8YsJ64EsbZ",
        "colab_type": "text"
      },
      "source": [
        "## Homework"
      ]
    },
    {
      "cell_type": "markdown",
      "metadata": {
        "id": "8Ir8HRMBExEv",
        "colab_type": "text"
      },
      "source": [
        "You are welcome to work in the cells below on your homework.\n",
        "\n",
        "\n",
        "\n",
        "1.   Define a small function printMessage(familyMember, family). It's a generator of funny messages addressed to your family. Your creativity here is welcomed A LOT. Use variables, store names/dates/whatever and print out messages to us based on whether we belond to the family/who we are or maybe some random condition (it's a rainy day BITCHES)\n",
        "2.   A favorite of all who start. Define a function calculator(num1, num2, op) which *returns* the result. It is a calculator as you might have guesses. The op should be passed in the following format:\n",
        "\n",
        "\n",
        "\n",
        "    *   \"sum\"\n",
        "    *   \"sub\"\n",
        "    *   \"mult\"\n",
        "    *   \"div\"\n",
        "    *   \"square\"\n",
        "\n",
        "Square: 3^2 (=9). Try to see how to calculate that. There is a solution online of course. I haven't shown you all the arithmetic operatinos. Don't hesitate to Google.\n",
        "\n",
        "Use if-statements:) Good luck!\n",
        "\n",
        "\n"
      ]
    },
    {
      "cell_type": "code",
      "metadata": {
        "id": "gwrxFbTZEvX8",
        "colab_type": "code",
        "colab": {}
      },
      "source": [
        ""
      ],
      "execution_count": null,
      "outputs": []
    },
    {
      "cell_type": "code",
      "metadata": {
        "id": "aoYBzuo7IFVf",
        "colab_type": "code",
        "colab": {}
      },
      "source": [
        ""
      ],
      "execution_count": null,
      "outputs": []
    },
    {
      "cell_type": "code",
      "metadata": {
        "id": "GctwTn7nIEut",
        "colab_type": "code",
        "colab": {}
      },
      "source": [
        ""
      ],
      "execution_count": null,
      "outputs": []
    }
  ]
}