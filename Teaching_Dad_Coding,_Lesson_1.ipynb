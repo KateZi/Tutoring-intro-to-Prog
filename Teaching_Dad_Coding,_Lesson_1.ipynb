{
  "nbformat": 4,
  "nbformat_minor": 0,
  "metadata": {
    "colab": {
      "name": "Teaching Dad Coding, Lesson 1",
      "provenance": [],
      "authorship_tag": "ABX9TyMA3LkiGVW959OLqWzJRlgk",
      "include_colab_link": true
    },
    "kernelspec": {
      "name": "python3",
      "display_name": "Python 3"
    }
  },
  "cells": [
    {
      "cell_type": "markdown",
      "metadata": {
        "id": "view-in-github",
        "colab_type": "text"
      },
      "source": [
        "<a href=\"https://colab.research.google.com/github/KateZi/Tutoring-intro-to-Prog/blob/master/Teaching_Dad_Coding%2C_Lesson_1.ipynb\" target=\"_parent\"><img src=\"https://colab.research.google.com/assets/colab-badge.svg\" alt=\"Open In Colab\"/></a>"
      ]
    },
    {
      "cell_type": "markdown",
      "metadata": {
        "id": "buRfvAMIBEeA",
        "colab_type": "text"
      },
      "source": [
        "# Lesson 1."
      ]
    },
    {
      "cell_type": "markdown",
      "metadata": {
        "id": "On-LTFjSB6Lt",
        "colab_type": "text"
      },
      "source": [
        "## More on Variables"
      ]
    },
    {
      "cell_type": "markdown",
      "metadata": {
        "id": "NQmJGVsBB9qK",
        "colab_type": "text"
      },
      "source": [
        "Last time we introuduced 3.5 different data types. What are they?\n",
        "\n",
        "Why do I say 3.5? Because I've mentioned lists only briefly.\n",
        "\n",
        "Let's elaborate on them now."
      ]
    },
    {
      "cell_type": "code",
      "metadata": {
        "id": "qhQD44H0B6xL",
        "colab_type": "code",
        "colab": {
          "base_uri": "https://localhost:8080/",
          "height": 34
        },
        "outputId": "ce3d3053-5396-4b97-83cd-8fd5ef7e2a6c"
      },
      "source": [
        "wishlist = [\"piano\", \"iphone\", \"car insurance\"]\n",
        "print(wishlist)"
      ],
      "execution_count": null,
      "outputs": [
        {
          "output_type": "stream",
          "text": [
            "['piano', 'iphone', 'car insurance']\n"
          ],
          "name": "stdout"
        }
      ]
    },
    {
      "cell_type": "code",
      "metadata": {
        "id": "rcn1jOYAEWA2",
        "colab_type": "code",
        "colab": {
          "base_uri": "https://localhost:8080/",
          "height": 34
        },
        "outputId": "8a568c4b-a72f-4b96-fd95-f937a372162d"
      },
      "source": [
        "print(type(wishlist))"
      ],
      "execution_count": null,
      "outputs": [
        {
          "output_type": "stream",
          "text": [
            "<class 'list'>\n"
          ],
          "name": "stdout"
        }
      ]
    },
    {
      "cell_type": "markdown",
      "metadata": {
        "id": "Q2rNhG_rEh_T",
        "colab_type": "text"
      },
      "source": [
        "The above function, type(), is a very useful function for understanding data types."
      ]
    },
    {
      "cell_type": "code",
      "metadata": {
        "id": "Y7bqgO-_Ebin",
        "colab_type": "code",
        "colab": {
          "base_uri": "https://localhost:8080/",
          "height": 34
        },
        "outputId": "b64475e8-71c2-426a-b3ae-b2d642a00146"
      },
      "source": [
        "print(len(wishlist))"
      ],
      "execution_count": null,
      "outputs": [
        {
          "output_type": "stream",
          "text": [
            "3\n"
          ],
          "name": "stdout"
        }
      ]
    },
    {
      "cell_type": "markdown",
      "metadata": {
        "id": "mTcxe3zaFUdp",
        "colab_type": "text"
      },
      "source": [
        "Search for the the used function on [w3schools](https://www.w3schools.com/).\n",
        "The definition is important. \n",
        "\n",
        "In a way it returns us a length of the object, but that's not exactly right. How do you define length of such an object in programming? By the number of items in it."
      ]
    },
    {
      "cell_type": "code",
      "metadata": {
        "id": "7Bp6EPDNE7Cl",
        "colab_type": "code",
        "colab": {
          "base_uri": "https://localhost:8080/",
          "height": 68
        },
        "outputId": "145610da-8914-4bfe-e833-94035f6c439f"
      },
      "source": [
        "print(wishlist[0])\n",
        "print(wishlist[1])\n",
        "print(wishlist[2])"
      ],
      "execution_count": null,
      "outputs": [
        {
          "output_type": "stream",
          "text": [
            "piano\n",
            "iphone\n",
            "car indurance\n"
          ],
          "name": "stdout"
        }
      ]
    },
    {
      "cell_type": "code",
      "metadata": {
        "id": "6U1ZwY4GFCTy",
        "colab_type": "code",
        "colab": {
          "base_uri": "https://localhost:8080/",
          "height": 85
        },
        "outputId": "a71356c4-9501-4dd6-e6b2-3f68096f0b69"
      },
      "source": [
        "print(wishlist[0:2])\n",
        "print(wishlist[1:2])\n",
        "print(wishlist[:2])\n",
        "print(wishlist[1:])"
      ],
      "execution_count": null,
      "outputs": [
        {
          "output_type": "stream",
          "text": [
            "['piano', 'iphone']\n",
            "['iphone']\n",
            "['piano', 'iphone']\n",
            "['iphone', 'car indurance']\n"
          ],
          "name": "stdout"
        }
      ]
    },
    {
      "cell_type": "code",
      "metadata": {
        "id": "Oukrf72EIao-",
        "colab_type": "code",
        "colab": {
          "base_uri": "https://localhost:8080/",
          "height": 34
        },
        "outputId": "c27f5d7a-9eb2-48d7-881d-84e0be33467c"
      },
      "source": [
        "wishlist.append(\"headphones\")\n",
        "print(wishlist)"
      ],
      "execution_count": null,
      "outputs": [
        {
          "output_type": "stream",
          "text": [
            "['piano', 'iphone', 'car insurance', 'headphones']\n"
          ],
          "name": "stdout"
        }
      ]
    },
    {
      "cell_type": "markdown",
      "metadata": {
        "id": "AFXUlecLJGe8",
        "colab_type": "text"
      },
      "source": [
        "What is going to be the length now?"
      ]
    },
    {
      "cell_type": "code",
      "metadata": {
        "id": "GLIWqLaiJEIG",
        "colab_type": "code",
        "colab": {
          "base_uri": "https://localhost:8080/",
          "height": 34
        },
        "outputId": "78d68434-6e16-4031-b527-e88dbd1c2bae"
      },
      "source": [
        "wishlist.sort()\n",
        "print(wishlist)"
      ],
      "execution_count": null,
      "outputs": [
        {
          "output_type": "stream",
          "text": [
            "['car insurance', 'headphones', 'iphone', 'piano']\n"
          ],
          "name": "stdout"
        }
      ]
    },
    {
      "cell_type": "markdown",
      "metadata": {
        "id": "EOle0DrmQbPO",
        "colab_type": "text"
      },
      "source": [
        "I suggest you now to read more about the sort() function. As well as about the others if you are curious:) Seeing the definitions and examples right after is very helpful for grasping the languages and the lingo describing it."
      ]
    },
    {
      "cell_type": "code",
      "metadata": {
        "id": "72M9bLfOQN1E",
        "colab_type": "code",
        "colab": {}
      },
      "source": [
        "wishlist[1], wishlist[3] = wishlist[3], wishlist[1]"
      ],
      "execution_count": null,
      "outputs": []
    },
    {
      "cell_type": "markdown",
      "metadata": {
        "id": "3NK3bumUQ0gy",
        "colab_type": "text"
      },
      "source": [
        "What do you think did I just attemt to do?"
      ]
    },
    {
      "cell_type": "code",
      "metadata": {
        "id": "hiWtaiuiQz0L",
        "colab_type": "code",
        "colab": {
          "base_uri": "https://localhost:8080/",
          "height": 34
        },
        "outputId": "2aefe404-9fa9-4c2c-f605-4b19b590457b"
      },
      "source": [
        "print(wishlist)"
      ],
      "execution_count": null,
      "outputs": [
        {
          "output_type": "stream",
          "text": [
            "['car insurance', 'piano', 'iphone', 'headphones']\n"
          ],
          "name": "stdout"
        }
      ]
    },
    {
      "cell_type": "markdown",
      "metadata": {
        "id": "545ipITyQ-gM",
        "colab_type": "text"
      },
      "source": [
        "Notice that the swap has happened on the sorted array. What does that mean about the sort() function?"
      ]
    },
    {
      "cell_type": "markdown",
      "metadata": {
        "id": "w1E7xQz2RKtv",
        "colab_type": "text"
      },
      "source": [
        "\n",
        "\n",
        "> Some functions, as we've seen, return an \"answer\" to the caller, an object. For example, len() returns a numeric value, an int, describing the number of items in the passed object.\n",
        "\n",
        "> However, some functions do not return a new object, rather they make changes to the object passed to them in an argument. For example, sort().\n",
        "\n",
        "> Further down the line you're going to encounter confusing functions, arguments and results. I strongly suggest you Google words like \"mutable\", \"immutable\", \"passing by value\", \"passing by reference\". The last two do not necessarily have to do with Python, but will give you a picture of important concepts.\n",
        "\n",
        "> You might as well enjoy this simple and short read: [Is Python Call by Value or Call by Reference?](https://medium.com/@lokeshsharma596/is-python-call-by-value-or-call-by-reference-2dd7db74dbd0)\n",
        "\n"
      ]
    },
    {
      "cell_type": "markdown",
      "metadata": {
        "id": "d7b5o5YQbfSJ",
        "colab_type": "text"
      },
      "source": [
        "\n",
        "\n",
        "---\n",
        "\n",
        "Arrays can contain different types of items. We've seen arrays with strings this lesson as well as last lesson. They can also contain numeric values and even objects that we create ourselves. More on that later.\n"
      ]
    },
    {
      "cell_type": "markdown",
      "metadata": {
        "id": "Kfe6T6msz3m1",
        "colab_type": "text"
      },
      "source": [
        "Interestingly, strings in Python can me manipulated the same as arrays...and it makes sense. A string is a sequence, an array of *characters*.\n",
        "\n",
        "\n",
        "> Take a few minutes to google words like \"string\", \"char\", \"sequence\" with relation to Python\n",
        "\n",
        "Let's look at the below examples:\n",
        "\n"
      ]
    },
    {
      "cell_type": "code",
      "metadata": {
        "id": "QpIyEuSBdOlh",
        "colab_type": "code",
        "colab": {}
      },
      "source": [
        "message = \"Hello, world\""
      ],
      "execution_count": 1,
      "outputs": []
    },
    {
      "cell_type": "code",
      "metadata": {
        "id": "r7Ys2_dX0YXP",
        "colab_type": "code",
        "colab": {
          "base_uri": "https://localhost:8080/",
          "height": 34
        },
        "outputId": "e2d84fd3-6c9c-4bbb-fdfa-520152fb3f66"
      },
      "source": [
        "print(len(message))"
      ],
      "execution_count": 2,
      "outputs": [
        {
          "output_type": "stream",
          "text": [
            "12\n"
          ],
          "name": "stdout"
        }
      ]
    },
    {
      "cell_type": "code",
      "metadata": {
        "id": "3yk-vfun0aLk",
        "colab_type": "code",
        "colab": {
          "base_uri": "https://localhost:8080/",
          "height": 102
        },
        "outputId": "b8a84028-90fa-4496-e230-640b1228a7e8"
      },
      "source": [
        "print(message[0])\n",
        "print(message[1:])\n",
        "print(message[0:6])\n",
        "print(message[-1])\n",
        "print(message[:-1])"
      ],
      "execution_count": 4,
      "outputs": [
        {
          "output_type": "stream",
          "text": [
            "H\n",
            "ello, world\n",
            "Hello,\n",
            "d\n",
            "Hello, worl\n"
          ],
          "name": "stdout"
        }
      ]
    },
    {
      "cell_type": "markdown",
      "metadata": {
        "id": "BPr2SQIW0xaO",
        "colab_type": "text"
      },
      "source": [
        "You see? Just like an array :)"
      ]
    },
    {
      "cell_type": "markdown",
      "metadata": {
        "id": "sGKO9wlr0_R6",
        "colab_type": "text"
      },
      "source": [
        "What else can we do with a string?"
      ]
    },
    {
      "cell_type": "code",
      "metadata": {
        "id": "jk_PRRXZ0qd8",
        "colab_type": "code",
        "colab": {
          "base_uri": "https://localhost:8080/",
          "height": 68
        },
        "outputId": "f21bd29d-6935-413f-fd2e-98f390d2516b"
      },
      "source": [
        "print(message.count('H'))\n",
        "print(message.count('h'))\n",
        "print(message.count('l'))"
      ],
      "execution_count": 7,
      "outputs": [
        {
          "output_type": "stream",
          "text": [
            "1\n",
            "0\n",
            "3\n"
          ],
          "name": "stdout"
        }
      ]
    },
    {
      "cell_type": "code",
      "metadata": {
        "id": "ThQ4M_261yX-",
        "colab_type": "code",
        "colab": {
          "base_uri": "https://localhost:8080/",
          "height": 34
        },
        "outputId": "d452bd00-e258-42ac-a086-7bf64966fd15"
      },
      "source": [
        "sorted(message) # Google ASCII and see why exactly the leading characters are sorted this way"
      ],
      "execution_count": 13,
      "outputs": [
        {
          "output_type": "execute_result",
          "data": {
            "text/plain": [
              "[' ', ',', 'H', 'd', 'e', 'l', 'l', 'l', 'o', 'o', 'r', 'w']"
            ]
          },
          "metadata": {
            "tags": []
          },
          "execution_count": 13
        }
      ]
    },
    {
      "cell_type": "markdown",
      "metadata": {
        "id": "u_1y8i__2r_k",
        "colab_type": "text"
      },
      "source": [
        "We've shown a few function to play around with strings. In today's homework you'll have a chance to google some other functions and learn to apply them."
      ]
    },
    {
      "cell_type": "markdown",
      "metadata": {
        "id": "Gc0N7B_K2432",
        "colab_type": "text"
      },
      "source": [
        "## More on if-statement and new on Switch"
      ]
    },
    {
      "cell_type": "markdown",
      "metadata": {
        "id": "SbYsTF5j28J8",
        "colab_type": "text"
      },
      "source": [
        "As you rightly noticed while doing the previous homework, \"There must be a way to do it more efficiently!\"\n",
        "\n",
        "Indeed there is. Let's see."
      ]
    },
    {
      "cell_type": "code",
      "metadata": {
        "id": "NBYdWZ102UjY",
        "colab_type": "code",
        "colab": {}
      },
      "source": [
        "family = [\"Dad\", \"Mom\", \"Gleb\", \"Kate\"]\n",
        "daughter = family[-1]\n",
        "dada = family[0]"
      ],
      "execution_count": 2,
      "outputs": []
    },
    {
      "cell_type": "code",
      "metadata": {
        "id": "hwG4IqVRwDOT",
        "colab_type": "code",
        "colab": {}
      },
      "source": [
        "def printMessage(family, memberToCheck):\n",
        "  if memberToCheck == family[0]:\n",
        "    print(\"Papa, a kem ty rabotaesh'?\")\n",
        "  elif memberToCheck == family[1]:\n",
        "    print(\"Moom\")\n",
        "  elif memberToCheck == family[2]:\n",
        "    print(\"Yay! Our Manny is here!\")\n",
        "  elif memberToCheck == family[-1]:\n",
        "    print(\"Koooot!\")\n",
        "  else:\n",
        "    print(\"Who the fuck are you?\")"
      ],
      "execution_count": 10,
      "outputs": []
    },
    {
      "cell_type": "code",
      "metadata": {
        "id": "H_A0rT29xZAI",
        "colab_type": "code",
        "colab": {
          "base_uri": "https://localhost:8080/",
          "height": 68
        },
        "outputId": "e2589091-27a0-4eaf-8b3c-69261661608f"
      },
      "source": [
        "printMessage(family, daughter)\n",
        "printMessage(family, dada)\n",
        "printMessage(family, \"Someone\")"
      ],
      "execution_count": 4,
      "outputs": [
        {
          "output_type": "stream",
          "text": [
            "Koooot!\n",
            "Papa, a kem ty rabotaesh'?\n",
            "Who the fuck are you?\n"
          ],
          "name": "stdout"
        }
      ]
    },
    {
      "cell_type": "markdown",
      "metadata": {
        "id": "GFlRIwtIxpk9",
        "colab_type": "text"
      },
      "source": [
        "\n",
        "\n",
        "> We learned **elif** special word. It's part of the if-statement concept. \"elif\" stands for \"else if\".\n",
        ">\n",
        "> It's a convenient way to avoid many if's inside of if's.\n",
        ">\n",
        "> **However**, **elif** and nested **if's** are not always interchangeable. As you learn further, you'll get a feeling of where to use which one.\n",
        "\n",
        "Let's see.\n",
        "\n"
      ]
    },
    {
      "cell_type": "code",
      "metadata": {
        "id": "-kHZBCucy4pV",
        "colab_type": "code",
        "colab": {}
      },
      "source": [
        "# let's create a booleam variable\n",
        "\n",
        "momAndDadMet = False"
      ],
      "execution_count": 28,
      "outputs": []
    },
    {
      "cell_type": "markdown",
      "metadata": {
        "id": "5R1LUA-EyqHU",
        "colab_type": "text"
      },
      "source": [
        "It will divide our timeline to before and after mom and dad met :)\n",
        "\n",
        "If they have - check the memberToCheck\n",
        "\n",
        "If memberToCheck isn't in the family - print an unrelevant text, *additionally* to the original function's run"
      ]
    },
    {
      "cell_type": "code",
      "metadata": {
        "id": "nz5s4ea3xgkl",
        "colab_type": "code",
        "colab": {}
      },
      "source": [
        "def newPrintMessage(family, memberToCheck, haveMet):\n",
        "  if haveMet:\n",
        "    printMessage(family, memberToCheck)\n",
        "  if memberToCheck not in family:\n",
        "    print(\"Additional not-nested \\'if\\' gives us an opportunity to check multiple things independently\")"
      ],
      "execution_count": 27,
      "outputs": []
    },
    {
      "cell_type": "code",
      "metadata": {
        "id": "pfTyKPoozwuQ",
        "colab_type": "code",
        "colab": {
          "base_uri": "https://localhost:8080/",
          "height": 85
        },
        "outputId": "8e3a10a4-c9ff-419e-f6c4-cd292a31c894"
      },
      "source": [
        "newPrintMessage(family, daughter, momAndDadMet)\n",
        "newPrintMessage(family, \"Someone\", momAndDadMet)\n",
        "\n",
        "momAndDadMet = True\n",
        "\n",
        "newPrintMessage(family, dada, momAndDadMet)\n",
        "newPrintMessage(family, \"Someone\", momAndDadMet)"
      ],
      "execution_count": 29,
      "outputs": [
        {
          "output_type": "stream",
          "text": [
            "Additional not-nested 'if' gives us an opportunity to check multiple things independently\n",
            "Papa, a kem ty rabotaesh'?\n",
            "Who the fuck are you?\n",
            "Additional not-nested 'if' gives us an opportunity to check multiple things independently\n"
          ],
          "name": "stdout"
        }
      ]
    },
    {
      "cell_type": "markdown",
      "metadata": {
        "id": "i802Ax46H_TN",
        "colab_type": "text"
      },
      "source": [
        "What would happen if we used **elif** instead?"
      ]
    },
    {
      "cell_type": "markdown",
      "metadata": {
        "id": "2JTzihKp2tc8",
        "colab_type": "text"
      },
      "source": [
        "\n",
        "\n",
        "---\n",
        "\n",
        "In the bonus lesson we're going to learn basics of JavaScript, including the if-statement(and switch, which does not purely exist in Python). For this we'll need a different environment than the Google Colab Notebooks we've using. Follow the instruction at the end either now, or after you finish this lesson.\n",
        "\n",
        "\n",
        "---\n",
        "\n",
        "\n",
        "\n",
        "\n"
      ]
    },
    {
      "cell_type": "markdown",
      "metadata": {
        "id": "XPf9gzyd_fa-",
        "colab_type": "text"
      },
      "source": [
        "## Loops"
      ]
    },
    {
      "cell_type": "markdown",
      "metadata": {
        "id": "bDGUkHpd_iUs",
        "colab_type": "text"
      },
      "source": [
        "Loops are another basic but very important concept.\n",
        "\n",
        "There are 2 primitive types of loops in Python:\n",
        "\n",
        "\n",
        "```\n",
        "bag = [\"phone\", \"keys\", \"money\", \"passport\"]\n",
        "# for loop\n",
        "for item in bag:\n",
        "  # do something with each item\n",
        "```\n",
        "```\n",
        "x = 0\n",
        "# while loop\n",
        "while x < 5:\n",
        "  x++\n",
        "  # do something\n",
        "```\n",
        "\n"
      ]
    },
    {
      "cell_type": "markdown",
      "metadata": {
        "id": "Vtk2SgDtJDM-",
        "colab_type": "text"
      },
      "source": [
        "Loops execute a block of code until the condition of the loop is no longer met. Condition is either iterating through all items in an array, as in the **for** example, or execute while a variable is fitting some inequality, and more. You can even say\n",
        "```\n",
        "while True:\n",
        "  # do something\n",
        "```\n",
        "\n",
        "Pay attention to the condition. Example of bad conditions (in case you do want to execite the code inside of the loop):\n",
        "```\n",
        "x = 5\n",
        "# bad because it's never gonna neter the loop\n",
        "while x < 5:\n",
        "  # do something\n",
        "\n",
        "# bad because it's never gonna exit the loop\n",
        "while x > 5:\n",
        "  # do something\n",
        "```\n",
        "\n",
        "The two examples above can still be a valid piece of code if we want it to behave this way. But how do we stop an infinite loop? And we do need to stop it **usually** otherwise the program will not progress. Also, how do you escape a while True example? Or what do you do if you simply want to change the flow of the loop?\n",
        "\n",
        "There are 2.5 special words for changing the loop's flow:\n",
        "\n",
        "\n",
        "1.   **break** - lets you escape the loop and not execute the block of code further\n",
        "2.   **continue** - lets you skip through the rest of the code **for the current iteration**. The loop will continue executing the next \"round\"\n",
        "3.   **pass** - *for-loop* cannot be empty, so if you need to skip finishing the loop at some point, but need your code to still be able to run (for example while working on another part), simply put **pass** inside\n",
        "\n",
        "The best way to understand the above is through examples.\n",
        "\n"
      ]
    },
    {
      "cell_type": "code",
      "metadata": {
        "id": "wtdhOrrBb6Zc",
        "colab_type": "code",
        "colab": {
          "base_uri": "https://localhost:8080/",
          "height": 34
        },
        "outputId": "d71a8f68-3ea3-4c35-a014-649e2867ae33"
      },
      "source": [
        "for i in range(3):\n",
        "  pass\n",
        "print(\"works\")"
      ],
      "execution_count": 19,
      "outputs": [
        {
          "output_type": "stream",
          "text": [
            "works\n"
          ],
          "name": "stdout"
        }
      ]
    },
    {
      "cell_type": "code",
      "metadata": {
        "id": "bHe3d2cpb-T6",
        "colab_type": "code",
        "colab": {
          "base_uri": "https://localhost:8080/",
          "height": 130
        },
        "outputId": "aa6a783f-86ef-4706-dd54-d2201254063a"
      },
      "source": [
        "for i in range(3):\n",
        " \n",
        "print(\"does not work\")"
      ],
      "execution_count": 20,
      "outputs": [
        {
          "output_type": "error",
          "ename": "IndentationError",
          "evalue": "ignored",
          "traceback": [
            "\u001b[0;36m  File \u001b[0;32m\"<ipython-input-20-0460c429fe34>\"\u001b[0;36m, line \u001b[0;32m3\u001b[0m\n\u001b[0;31m    print(\"does not work\")\u001b[0m\n\u001b[0m        ^\u001b[0m\n\u001b[0;31mIndentationError\u001b[0m\u001b[0;31m:\u001b[0m expected an indented block\n"
          ]
        }
      ]
    },
    {
      "cell_type": "markdown",
      "metadata": {
        "id": "vvCfpdehKt1F",
        "colab_type": "text"
      },
      "source": [
        "I want to write a new function, which prints messages for all members of the family at once."
      ]
    },
    {
      "cell_type": "code",
      "metadata": {
        "id": "QrYRYJ_Zz_zF",
        "colab_type": "code",
        "colab": {}
      },
      "source": [
        "messages = [\"Papa, a kem ty rabotaesh'?\", \"Moom\", \"Yay! Our Manny is here!\", \"Koooot!\"]\n",
        "\n",
        "def printMessages(family):\n",
        "  for i, member in enumerate(family):\n",
        "    print(' -> '.join([member, messages[i]]))"
      ],
      "execution_count": 4,
      "outputs": []
    },
    {
      "cell_type": "code",
      "metadata": {
        "id": "28WH3C5ILxXV",
        "colab_type": "code",
        "colab": {
          "base_uri": "https://localhost:8080/",
          "height": 85
        },
        "outputId": "af55eadd-cf25-4823-9f74-99cfc2f5ab7b"
      },
      "source": [
        "printMessages(family)"
      ],
      "execution_count": 43,
      "outputs": [
        {
          "output_type": "stream",
          "text": [
            "Dad -> Papa, a kem ty rabotaesh'?\n",
            "Mom -> Moom\n",
            "Gleb -> Yay! Our Manny is here!\n",
            "Kate -> Koooot!\n"
          ],
          "name": "stdout"
        }
      ]
    },
    {
      "cell_type": "markdown",
      "metadata": {
        "id": "4RlX73hnMiLR",
        "colab_type": "text"
      },
      "source": [
        "printMessages() was more new things that what I described. However, do not fear.\n",
        "\n",
        "Google the unkown\n",
        "\n",
        "*   enumerate()\n",
        "*   join()\n",
        "\n"
      ]
    },
    {
      "cell_type": "markdown",
      "metadata": {
        "id": "C2OXqvpnV1-4",
        "colab_type": "text"
      },
      "source": [
        "So how do the break and continue work?\n",
        "\n",
        "Let's imagine that once you encounter \"Mom\" you have to stop everything and talk with her instead of printing messages to everybody."
      ]
    },
    {
      "cell_type": "code",
      "metadata": {
        "id": "5s_zJUxMWCDs",
        "colab_type": "code",
        "colab": {
          "base_uri": "https://localhost:8080/",
          "height": 51
        },
        "outputId": "68f4c7dc-6d62-4059-fb70-2938e24ff3d7"
      },
      "source": [
        "for i, member in enumerate(family):\n",
        "  if member == \"Mom\": \n",
        "    print(\"Had to stop everything to talk with mom\")\n",
        "    break\n",
        "  print(' -> '.join([member, messages[i]]))"
      ],
      "execution_count": 6,
      "outputs": [
        {
          "output_type": "stream",
          "text": [
            "Dad -> Papa, a kem ty rabotaesh'?\n",
            "Had to stop everything to talk with mom\n"
          ],
          "name": "stdout"
        }
      ]
    },
    {
      "cell_type": "markdown",
      "metadata": {
        "id": "WDie9BwiRK3w",
        "colab_type": "text"
      },
      "source": [
        "Now you see how break works.\n",
        "\n",
        "What if I want to skip printing a message for Gleb cause he's been moody lately?"
      ]
    },
    {
      "cell_type": "code",
      "metadata": {
        "id": "WlbRiYlURTD2",
        "colab_type": "code",
        "colab": {
          "base_uri": "https://localhost:8080/",
          "height": 68
        },
        "outputId": "d73b709f-658c-4417-c959-673b7082af15"
      },
      "source": [
        "for i, member in enumerate(family):\n",
        "  if member == \"Gleb\": continue\n",
        "  print(' -> '.join([member, messages[i]]))"
      ],
      "execution_count": 108,
      "outputs": [
        {
          "output_type": "stream",
          "text": [
            "Dad -> Papa, a kem ty rabotaesh'?\n",
            "Mom -> Moom\n",
            "Kate -> Koooot!\n"
          ],
          "name": "stdout"
        }
      ]
    },
    {
      "cell_type": "markdown",
      "metadata": {
        "id": "MXv5dsRORc8b",
        "colab_type": "text"
      },
      "source": [
        "Now you see how continue works: it skipped right over Gleb."
      ]
    },
    {
      "cell_type": "code",
      "metadata": {
        "id": "rPC1bCgTWgj4",
        "colab_type": "code",
        "colab": {
          "base_uri": "https://localhost:8080/",
          "height": 51
        },
        "outputId": "5d607082-5b0f-47ae-8f0e-49b1b2433d3a"
      },
      "source": [
        "import random     # import is a special word for bringing in code written by someone else for use, library\n",
        "\n",
        "# ofcourse you could do it in a much better way\n",
        "# but for the sake of complete example:\n",
        "def demandAttention():\n",
        "  paidAttention = False\n",
        "  timeout = 5\n",
        "  curr_time = 0\n",
        "  while True:\n",
        "    if curr_time >= timeout: \n",
        "      print(\"Timeout\")\n",
        "      break\n",
        "    if paidAttention: \n",
        "      print(\"Reached at: \" + str(curr_time))\n",
        "      print(\"Mom, I want to eat!\")\n",
        "      break\n",
        "    curr_time += 1\n",
        "    paidAttention = random.choice([True, False])\n",
        "\n",
        "demandAttention()"
      ],
      "execution_count": 18,
      "outputs": [
        {
          "output_type": "stream",
          "text": [
            "Reached at: 1\n",
            "Mom, I want to eat!\n"
          ],
          "name": "stdout"
        }
      ]
    },
    {
      "cell_type": "markdown",
      "metadata": {
        "id": "EErq_lrda07a",
        "colab_type": "text"
      },
      "source": [
        "random.choice([]) above is one of the ways to get a random boolean. \n",
        "\n",
        "we imported \"random\" class, which includes function choice. Function choice() takes in an array as an argument and outputs a random item from it."
      ]
    },
    {
      "cell_type": "markdown",
      "metadata": {
        "id": "_BdOKsVwbIvc",
        "colab_type": "text"
      },
      "source": [
        "\n",
        "\n",
        "---\n",
        "\n",
        "\n",
        "\n",
        "---\n",
        "\n",
        "\n",
        "Now onto the while loop. Note, that break and continue work the same way in this type of loops.\n",
        "\n",
        "I'm going to define a small function, which takes in a number n and prints out a * pyramid of the height n with the max number of stars at the bottom (n)."
      ]
    },
    {
      "cell_type": "code",
      "metadata": {
        "id": "YYJetFxVLzo3",
        "colab_type": "code",
        "colab": {}
      },
      "source": [
        "def pyramid(n):\n",
        "  i = 1\n",
        "  while i <= n:\n",
        "    print(' ' * (n-i) + '* ' * i)\n",
        "    i += 1"
      ],
      "execution_count": 94,
      "outputs": []
    },
    {
      "cell_type": "code",
      "metadata": {
        "id": "F-X1ACAcNDZc",
        "colab_type": "code",
        "colab": {
          "base_uri": "https://localhost:8080/",
          "height": 204
        },
        "outputId": "e62db1df-ac4f-4e11-cbd1-451842747fd9"
      },
      "source": [
        "pyramid(11)"
      ],
      "execution_count": 97,
      "outputs": [
        {
          "output_type": "stream",
          "text": [
            "          * \n",
            "         * * \n",
            "        * * * \n",
            "       * * * * \n",
            "      * * * * * \n",
            "     * * * * * * \n",
            "    * * * * * * * \n",
            "   * * * * * * * * \n",
            "  * * * * * * * * * \n",
            " * * * * * * * * * * \n",
            "* * * * * * * * * * * \n"
          ],
          "name": "stdout"
        }
      ]
    },
    {
      "cell_type": "markdown",
      "metadata": {
        "id": "ge2IiC9FOyk2",
        "colab_type": "text"
      },
      "source": [
        "The above exercise is a classic task for those who start learning how to code. You can play around with different shapes. I'll leave a few and you can try yourself.\n",
        "\n",
        "\n",
        "\n",
        "```\n",
        "* * * * *     \n",
        " * * * * \n",
        "  * * * \n",
        "   * * \n",
        "    *   \n",
        "\n",
        "###########\n",
        "\n",
        "    * \n",
        "   * * \n",
        "  * * * \n",
        " * * * * \n",
        "* * * * * \n",
        " * * * * \n",
        "  * * * \n",
        "   * * \n",
        "    *    \n",
        "\n",
        "############\n",
        "\n",
        "* * * * * \n",
        " * * * * \n",
        "  * * * \n",
        "   * * \n",
        "    * \n",
        "    * \n",
        "   * * \n",
        "  * * * \n",
        " * * * * \n",
        "* * * * * \n",
        "\n",
        "```\n",
        "\n",
        "\n",
        "There are more, let your creativity shine here.\n",
        "\n",
        "\n"
      ]
    },
    {
      "cell_type": "markdown",
      "metadata": {
        "id": "7Ko6btEQfYrm",
        "colab_type": "text"
      },
      "source": [
        "\n",
        "\n",
        "---\n",
        "\n",
        "\n",
        "> Now you are familiar with important ideas and executions that are behind most things in the end. Loop until something, do something if something. You can create anything now with enough creativity and patience. Once we introduce the concept of a class and create our own class, the possibilities will be even **CRAZIER** :)\n",
        "\n",
        "\n",
        "---\n",
        "\n",
        "\n",
        "\n",
        "\n"
      ]
    },
    {
      "cell_type": "markdown",
      "metadata": {
        "id": "SrLakscghQSC",
        "colab_type": "text"
      },
      "source": [
        "## Javascript Bonus"
      ]
    },
    {
      "cell_type": "markdown",
      "metadata": {
        "id": "rksS0X_5hUtM",
        "colab_type": "text"
      },
      "source": [
        "One can learn Javascript using just their browser. But let's start somewhere simpler for now, where you won't have to go into the settings, which differ from browser to browser, and figure out what to click...just yet.\n",
        "\n",
        "https://www.w3schools.com/js/js_editor.asp\n",
        "\n",
        "Yes, our old trusty friend. The w3schools has an online editor for learning Javascript and not only. Go ahead and **Try It Yourself**. You can play around with JavaScript there the same you can with Python - here.\n",
        "\n",
        "If you look at the left menu [here](https://www.w3schools.com/js/js_editor.asp\n",
        "), you'll see \"JS Exercises\". I want you to click there. If you have time, go over them from the begininnig. It's fun, you'll see you can already do quite a lot just by intuition you have from Python.\n",
        "\n",
        "However, not everything will be this way, since the languages are indeed different and we haven't touched upon a lot of things which would be considered basic in JavaScript.\n",
        "\n",
        "Once you find things that are not particularly interesting to you yet, go ahead and click \"JS Conditions\". This will indeed be pretty intuitive. Go through the rest of the exercises, with an exception of the very last one. You'll see the relevance to what we have learned and will be surprised to get familiar with Javascript so easily.\n",
        "\n",
        "We'll look at if-statement and switch specifically per the request of the student:)"
      ]
    },
    {
      "cell_type": "markdown",
      "metadata": {
        "id": "yftSelQPjf3J",
        "colab_type": "text"
      },
      "source": [
        "### If-statement\n",
        "\n",
        "Notice the sall differences in the languages. Otherwise, it works the same:)\n",
        "\n",
        "```\n",
        "if (x < 5){\n",
        "  // do something\n",
        "} else if {\n",
        "  // do nothing\n",
        "} else{\n",
        "  // do something else\n",
        "}\n",
        "```"
      ]
    },
    {
      "cell_type": "markdown",
      "metadata": {
        "id": "VWwfjfG4mpqI",
        "colab_type": "text"
      },
      "source": [
        "### Switch\n",
        "\n",
        "Switch is similat to an if statement in its purpose. You feed switch a variable, and it looks at cases (in order) of what this variable can be.\n",
        "\n",
        "```\n",
        "switch (member){\n",
        "  case \"Dad\":\n",
        "    # do something\n",
        "    break\n",
        "  case \"Mom\":\n",
        "    # do something else\n",
        "    break\n",
        "  default:\n",
        "    break\n",
        "```\n",
        "\n",
        "\n",
        "\n",
        "> Each case requires a break in the end\n",
        "\n",
        "> Each switch requires a default case. You can do nothing in it, but don't forget you break!\n",
        "\n"
      ]
    },
    {
      "cell_type": "markdown",
      "metadata": {
        "id": "VWMuihQ_e-M3",
        "colab_type": "text"
      },
      "source": [
        "## Homework"
      ]
    },
    {
      "cell_type": "markdown",
      "metadata": {
        "id": "mnKfmzcrhO1s",
        "colab_type": "text"
      },
      "source": [
        "You'll have 2 main tasks in you homework (and a bonus if you do the pyramids examples, which you can do below, above, wherever you choose. Just let me know)."
      ]
    },
    {
      "cell_type": "markdown",
      "metadata": {
        "id": "pIiLDLh5orY5",
        "colab_type": "text"
      },
      "source": [
        "1. You'll be working more with strings. You'll have to Google functions:)\n",
        "I want you to write a letter to \"Mom\" based on a series of events occuring or not occuring randomly. Use the trick of creating a messages array, you might even use more. You can make the  array universal, not containing specific messages or sentences, maybe words or phrases that you would most often use. Maybe even parts of words. Google function that can help you create different words and sentences, and in the end letter, reusing the same items in an array. The events are also left to your creativity. The letter should be returned from a function writeLetter().\n",
        "\n",
        "Example of an array - [\"Dear\", \"and\", \"i\", \"l\", \"Kate and Gleb\"]\n",
        "\n",
        "Example of events (doesn't have to be in an array) - [birthday_forgotten, children_at_home]"
      ]
    },
    {
      "cell_type": "markdown",
      "metadata": {
        "id": "Ix-Ag3hzq3dH",
        "colab_type": "text"
      },
      "source": [
        "2. Javascript! Rewrite the functions from previous homework, but now knowing what you've learned. Rewrite one of them with a more efficient if, and another with a switch. Use the [online editor](https://www.w3schools.com/js/tryit.asp?filename=tryjs_editor) to see your work, copy your code in a text cell below (since it's not Python it won't run ehre anyway).\n",
        "\n",
        "Notice, your JS code goes between the \\<script\\> and \\</script\\> lines. The rest is HTML in the example."
      ]
    },
    {
      "cell_type": "markdown",
      "metadata": {
        "id": "M2CrdL5urUHz",
        "colab_type": "text"
      },
      "source": [
        ""
      ]
    },
    {
      "cell_type": "code",
      "metadata": {
        "id": "vpUR26RpQbOh",
        "colab_type": "code",
        "colab": {}
      },
      "source": [
        ""
      ],
      "execution_count": null,
      "outputs": []
    },
    {
      "cell_type": "code",
      "metadata": {
        "id": "aRN1lHM7hNoQ",
        "colab_type": "code",
        "colab": {}
      },
      "source": [
        ""
      ],
      "execution_count": null,
      "outputs": []
    },
    {
      "cell_type": "code",
      "metadata": {
        "id": "YFfD6WVFhN51",
        "colab_type": "code",
        "colab": {}
      },
      "source": [
        ""
      ],
      "execution_count": null,
      "outputs": []
    }
  ]
}